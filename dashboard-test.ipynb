{
 "cells": [
  {
   "cell_type": "markdown",
   "id": "9a7763fd-cb5b-4ab1-a269-0393d5fa3617",
   "metadata": {},
   "source": [
    "Corinn Sinnott 15 November 2022"
   ]
  },
  {
   "cell_type": "markdown",
   "id": "db389620-26e4-464b-8520-b8140e45d87a",
   "metadata": {},
   "source": [
    "# Example Dashboard"
   ]
  },
  {
   "cell_type": "markdown",
   "id": "960a3dd5-8e5a-4cb0-ba82-24bfec96a098",
   "metadata": {},
   "source": [
    "### This is an example showing how to control bar color and legend entries using the color and label parameters of bar."
   ]
  },
  {
   "cell_type": "code",
   "execution_count": null,
   "id": "97a887f8-119d-48ce-a1c1-7c12f2437185",
   "metadata": {},
   "outputs": [],
   "source": [
    "import matplotlib.pyplot as plt\n",
    "\n",
    "fig, ax = plt.subplots()\n",
    "\n",
    "fruits = ['apple', 'blueberry', 'cherry', 'orange']\n",
    "counts = [40, 100, 30, 55]\n",
    "bar_labels = ['red', 'blue', '_red', 'orange']\n",
    "bar_colors = ['tab:red', 'tab:blue', 'tab:red', 'tab:orange']\n",
    "\n",
    "ax.bar(fruits, counts, label=bar_labels, color=bar_colors)\n",
    "\n",
    "ax.set_ylabel('fruit supply')\n",
    "ax.set_title('Fruit supply by kind and color')\n",
    "ax.legend(title='Fruit color')\n",
    "\n",
    "plt.show()"
   ]
  },
  {
   "cell_type": "markdown",
   "id": "545ed3e2-082f-46ff-9d23-3b70b54b085c",
   "metadata": {},
   "source": [
    "### Demo of a basic pie chart plus a few additional features"
   ]
  },
  {
   "cell_type": "code",
   "execution_count": null,
   "id": "dd129aa7-bb65-422b-9656-eac0294919b9",
   "metadata": {},
   "outputs": [],
   "source": [
    "import matplotlib.pyplot as plt\n",
    "\n",
    "# Pie chart, where the slices will be ordered and plotted counter-clockwise:\n",
    "labels = 'Frogs', 'Hogs', 'Dogs', 'Logs'\n",
    "sizes = [15, 30, 45, 10]\n",
    "explode = (0, 0.1, 0, 0)  # only \"explode\" the 2nd slice (i.e. 'Hogs')\n",
    "\n",
    "fig1, ax1 = plt.subplots()\n",
    "ax1.pie(sizes, explode=explode, labels=labels, autopct='%1.1f%%',\n",
    "        shadow=True, startangle=90)\n",
    "ax1.axis('equal')  # Equal aspect ratio ensures that pie is drawn as a circle.\n",
    "\n",
    "plt.show()"
   ]
  },
  {
   "cell_type": "markdown",
   "id": "0812d9bb-360f-4854-81e0-ca6814aeb35b",
   "metadata": {},
   "source": [
    "### Demo of a simple plot"
   ]
  },
  {
   "cell_type": "code",
   "execution_count": null,
   "id": "92a44463-4432-4388-98f6-b342914b6d2d",
   "metadata": {},
   "outputs": [],
   "source": [
    "import matplotlib.pyplot as plt\n",
    "import numpy as np\n",
    "\n",
    "# Data for plotting\n",
    "t = np.arange(0.0, 2.0, 0.01)\n",
    "s = 1 + np.sin(2 * np.pi * t)\n",
    "\n",
    "fig, ax = plt.subplots()\n",
    "ax.plot(t, s)\n",
    "\n",
    "ax.set(xlabel='time (s)', ylabel='voltage (mV)',\n",
    "       title='About as simple as it gets, folks')\n",
    "ax.grid()\n",
    "\n",
    "fig.savefig(\"test.png\")\n",
    "plt.show()"
   ]
  }
 ],
 "metadata": {
  "kernelspec": {
   "display_name": "Python 3 (ipykernel)",
   "language": "python",
   "name": "python3"
  },
  "language_info": {
   "codemirror_mode": {
    "name": "ipython",
    "version": 3
   },
   "file_extension": ".py",
   "mimetype": "text/x-python",
   "name": "python",
   "nbconvert_exporter": "python",
   "pygments_lexer": "ipython3",
   "version": "3.10.7"
  }
 },
 "nbformat": 4,
 "nbformat_minor": 5
}
